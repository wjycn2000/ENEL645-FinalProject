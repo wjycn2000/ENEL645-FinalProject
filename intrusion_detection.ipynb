{
 "cells": [
  {
   "cell_type": "code",
   "execution_count": 1,
   "metadata": {},
   "outputs": [],
   "source": [
    "import torch\n",
    "import numpy as np\n",
    "import matplotlib.pyplot as plt\n",
    "from sklearn.preprocessing import StandardScaler\n",
    "import torch\n",
    "from torch.utils.data import Dataset, DataLoader"
   ]
  },
  {
   "cell_type": "markdown",
   "metadata": {},
   "source": [
    "Data Pre-processing"
   ]
  },
  {
   "cell_type": "code",
   "execution_count": 2,
   "metadata": {},
   "outputs": [
    {
     "data": {
      "text/html": [
       "<div>\n",
       "<style scoped>\n",
       "    .dataframe tbody tr th:only-of-type {\n",
       "        vertical-align: middle;\n",
       "    }\n",
       "\n",
       "    .dataframe tbody tr th {\n",
       "        vertical-align: top;\n",
       "    }\n",
       "\n",
       "    .dataframe thead th {\n",
       "        text-align: right;\n",
       "    }\n",
       "</style>\n",
       "<table border=\"1\" class=\"dataframe\">\n",
       "  <thead>\n",
       "    <tr style=\"text-align: right;\">\n",
       "      <th></th>\n",
       "      <th>Destination Port</th>\n",
       "      <th>Flow Duration</th>\n",
       "      <th>Total Fwd Packets</th>\n",
       "      <th>Total Backward Packets</th>\n",
       "      <th>Total Length of Fwd Packets</th>\n",
       "      <th>Total Length of Bwd Packets</th>\n",
       "      <th>Fwd Packet Length Max</th>\n",
       "      <th>Fwd Packet Length Min</th>\n",
       "      <th>Fwd Packet Length Mean</th>\n",
       "      <th>Fwd Packet Length Std</th>\n",
       "      <th>...</th>\n",
       "      <th>min_seg_size_forward</th>\n",
       "      <th>Active Mean</th>\n",
       "      <th>Active Std</th>\n",
       "      <th>Active Max</th>\n",
       "      <th>Active Min</th>\n",
       "      <th>Idle Mean</th>\n",
       "      <th>Idle Std</th>\n",
       "      <th>Idle Max</th>\n",
       "      <th>Idle Min</th>\n",
       "      <th>Label</th>\n",
       "    </tr>\n",
       "  </thead>\n",
       "  <tbody>\n",
       "    <tr>\n",
       "      <th>0</th>\n",
       "      <td>54865</td>\n",
       "      <td>3</td>\n",
       "      <td>2</td>\n",
       "      <td>0</td>\n",
       "      <td>12</td>\n",
       "      <td>0</td>\n",
       "      <td>6</td>\n",
       "      <td>6</td>\n",
       "      <td>6.0</td>\n",
       "      <td>0.0</td>\n",
       "      <td>...</td>\n",
       "      <td>20</td>\n",
       "      <td>0.0</td>\n",
       "      <td>0.0</td>\n",
       "      <td>0</td>\n",
       "      <td>0</td>\n",
       "      <td>0.0</td>\n",
       "      <td>0.0</td>\n",
       "      <td>0</td>\n",
       "      <td>0</td>\n",
       "      <td>BENIGN</td>\n",
       "    </tr>\n",
       "    <tr>\n",
       "      <th>1</th>\n",
       "      <td>55054</td>\n",
       "      <td>109</td>\n",
       "      <td>1</td>\n",
       "      <td>1</td>\n",
       "      <td>6</td>\n",
       "      <td>6</td>\n",
       "      <td>6</td>\n",
       "      <td>6</td>\n",
       "      <td>6.0</td>\n",
       "      <td>0.0</td>\n",
       "      <td>...</td>\n",
       "      <td>20</td>\n",
       "      <td>0.0</td>\n",
       "      <td>0.0</td>\n",
       "      <td>0</td>\n",
       "      <td>0</td>\n",
       "      <td>0.0</td>\n",
       "      <td>0.0</td>\n",
       "      <td>0</td>\n",
       "      <td>0</td>\n",
       "      <td>BENIGN</td>\n",
       "    </tr>\n",
       "    <tr>\n",
       "      <th>2</th>\n",
       "      <td>55055</td>\n",
       "      <td>52</td>\n",
       "      <td>1</td>\n",
       "      <td>1</td>\n",
       "      <td>6</td>\n",
       "      <td>6</td>\n",
       "      <td>6</td>\n",
       "      <td>6</td>\n",
       "      <td>6.0</td>\n",
       "      <td>0.0</td>\n",
       "      <td>...</td>\n",
       "      <td>20</td>\n",
       "      <td>0.0</td>\n",
       "      <td>0.0</td>\n",
       "      <td>0</td>\n",
       "      <td>0</td>\n",
       "      <td>0.0</td>\n",
       "      <td>0.0</td>\n",
       "      <td>0</td>\n",
       "      <td>0</td>\n",
       "      <td>BENIGN</td>\n",
       "    </tr>\n",
       "    <tr>\n",
       "      <th>3</th>\n",
       "      <td>46236</td>\n",
       "      <td>34</td>\n",
       "      <td>1</td>\n",
       "      <td>1</td>\n",
       "      <td>6</td>\n",
       "      <td>6</td>\n",
       "      <td>6</td>\n",
       "      <td>6</td>\n",
       "      <td>6.0</td>\n",
       "      <td>0.0</td>\n",
       "      <td>...</td>\n",
       "      <td>20</td>\n",
       "      <td>0.0</td>\n",
       "      <td>0.0</td>\n",
       "      <td>0</td>\n",
       "      <td>0</td>\n",
       "      <td>0.0</td>\n",
       "      <td>0.0</td>\n",
       "      <td>0</td>\n",
       "      <td>0</td>\n",
       "      <td>BENIGN</td>\n",
       "    </tr>\n",
       "    <tr>\n",
       "      <th>4</th>\n",
       "      <td>54863</td>\n",
       "      <td>3</td>\n",
       "      <td>2</td>\n",
       "      <td>0</td>\n",
       "      <td>12</td>\n",
       "      <td>0</td>\n",
       "      <td>6</td>\n",
       "      <td>6</td>\n",
       "      <td>6.0</td>\n",
       "      <td>0.0</td>\n",
       "      <td>...</td>\n",
       "      <td>20</td>\n",
       "      <td>0.0</td>\n",
       "      <td>0.0</td>\n",
       "      <td>0</td>\n",
       "      <td>0</td>\n",
       "      <td>0.0</td>\n",
       "      <td>0.0</td>\n",
       "      <td>0</td>\n",
       "      <td>0</td>\n",
       "      <td>BENIGN</td>\n",
       "    </tr>\n",
       "  </tbody>\n",
       "</table>\n",
       "<p>5 rows × 79 columns</p>\n",
       "</div>"
      ],
      "text/plain": [
       "    Destination Port   Flow Duration   Total Fwd Packets  \\\n",
       "0              54865               3                   2   \n",
       "1              55054             109                   1   \n",
       "2              55055              52                   1   \n",
       "3              46236              34                   1   \n",
       "4              54863               3                   2   \n",
       "\n",
       "    Total Backward Packets  Total Length of Fwd Packets  \\\n",
       "0                        0                           12   \n",
       "1                        1                            6   \n",
       "2                        1                            6   \n",
       "3                        1                            6   \n",
       "4                        0                           12   \n",
       "\n",
       "    Total Length of Bwd Packets   Fwd Packet Length Max  \\\n",
       "0                             0                       6   \n",
       "1                             6                       6   \n",
       "2                             6                       6   \n",
       "3                             6                       6   \n",
       "4                             0                       6   \n",
       "\n",
       "    Fwd Packet Length Min   Fwd Packet Length Mean   Fwd Packet Length Std  \\\n",
       "0                       6                      6.0                     0.0   \n",
       "1                       6                      6.0                     0.0   \n",
       "2                       6                      6.0                     0.0   \n",
       "3                       6                      6.0                     0.0   \n",
       "4                       6                      6.0                     0.0   \n",
       "\n",
       "   ...   min_seg_size_forward  Active Mean   Active Std   Active Max  \\\n",
       "0  ...                     20          0.0          0.0            0   \n",
       "1  ...                     20          0.0          0.0            0   \n",
       "2  ...                     20          0.0          0.0            0   \n",
       "3  ...                     20          0.0          0.0            0   \n",
       "4  ...                     20          0.0          0.0            0   \n",
       "\n",
       "    Active Min  Idle Mean   Idle Std   Idle Max   Idle Min   Label  \n",
       "0            0        0.0        0.0          0          0  BENIGN  \n",
       "1            0        0.0        0.0          0          0  BENIGN  \n",
       "2            0        0.0        0.0          0          0  BENIGN  \n",
       "3            0        0.0        0.0          0          0  BENIGN  \n",
       "4            0        0.0        0.0          0          0  BENIGN  \n",
       "\n",
       "[5 rows x 79 columns]"
      ]
     },
     "execution_count": 2,
     "metadata": {},
     "output_type": "execute_result"
    }
   ],
   "source": [
    "# import dataset from csv file\n",
    "import pandas as pd\n",
    "with open('Friday-WorkingHours-Afternoon-DDos.pcap_ISCX.csv', 'r') as f:\n",
    "    data = pd.read_csv(f)\n",
    "data.head()"
   ]
  },
  {
   "cell_type": "code",
   "execution_count": 3,
   "metadata": {},
   "outputs": [
    {
     "name": "stdout",
     "output_type": "stream",
     "text": [
      "<class 'pandas.core.frame.DataFrame'>\n",
      "RangeIndex: 225745 entries, 0 to 225744\n",
      "Data columns (total 79 columns):\n",
      " #   Column                        Non-Null Count   Dtype  \n",
      "---  ------                        --------------   -----  \n",
      " 0    Destination Port             225745 non-null  int64  \n",
      " 1    Flow Duration                225745 non-null  int64  \n",
      " 2    Total Fwd Packets            225745 non-null  int64  \n",
      " 3    Total Backward Packets       225745 non-null  int64  \n",
      " 4   Total Length of Fwd Packets   225745 non-null  int64  \n",
      " 5    Total Length of Bwd Packets  225745 non-null  int64  \n",
      " 6    Fwd Packet Length Max        225745 non-null  int64  \n",
      " 7    Fwd Packet Length Min        225745 non-null  int64  \n",
      " 8    Fwd Packet Length Mean       225745 non-null  float64\n",
      " 9    Fwd Packet Length Std        225745 non-null  float64\n",
      " 10  Bwd Packet Length Max         225745 non-null  int64  \n",
      " 11   Bwd Packet Length Min        225745 non-null  int64  \n",
      " 12   Bwd Packet Length Mean       225745 non-null  float64\n",
      " 13   Bwd Packet Length Std        225745 non-null  float64\n",
      " 14  Flow Bytes/s                  225741 non-null  float64\n",
      " 15   Flow Packets/s               225745 non-null  float64\n",
      " 16   Flow IAT Mean                225745 non-null  float64\n",
      " 17   Flow IAT Std                 225745 non-null  float64\n",
      " 18   Flow IAT Max                 225745 non-null  int64  \n",
      " 19   Flow IAT Min                 225745 non-null  int64  \n",
      " 20  Fwd IAT Total                 225745 non-null  int64  \n",
      " 21   Fwd IAT Mean                 225745 non-null  float64\n",
      " 22   Fwd IAT Std                  225745 non-null  float64\n",
      " 23   Fwd IAT Max                  225745 non-null  int64  \n",
      " 24   Fwd IAT Min                  225745 non-null  int64  \n",
      " 25  Bwd IAT Total                 225745 non-null  int64  \n",
      " 26   Bwd IAT Mean                 225745 non-null  float64\n",
      " 27   Bwd IAT Std                  225745 non-null  float64\n",
      " 28   Bwd IAT Max                  225745 non-null  int64  \n",
      " 29   Bwd IAT Min                  225745 non-null  int64  \n",
      " 30  Fwd PSH Flags                 225745 non-null  int64  \n",
      " 31   Bwd PSH Flags                225745 non-null  int64  \n",
      " 32   Fwd URG Flags                225745 non-null  int64  \n",
      " 33   Bwd URG Flags                225745 non-null  int64  \n",
      " 34   Fwd Header Length            225745 non-null  int64  \n",
      " 35   Bwd Header Length            225745 non-null  int64  \n",
      " 36  Fwd Packets/s                 225745 non-null  float64\n",
      " 37   Bwd Packets/s                225745 non-null  float64\n",
      " 38   Min Packet Length            225745 non-null  int64  \n",
      " 39   Max Packet Length            225745 non-null  int64  \n",
      " 40   Packet Length Mean           225745 non-null  float64\n",
      " 41   Packet Length Std            225745 non-null  float64\n",
      " 42   Packet Length Variance       225745 non-null  float64\n",
      " 43  FIN Flag Count                225745 non-null  int64  \n",
      " 44   SYN Flag Count               225745 non-null  int64  \n",
      " 45   RST Flag Count               225745 non-null  int64  \n",
      " 46   PSH Flag Count               225745 non-null  int64  \n",
      " 47   ACK Flag Count               225745 non-null  int64  \n",
      " 48   URG Flag Count               225745 non-null  int64  \n",
      " 49   CWE Flag Count               225745 non-null  int64  \n",
      " 50   ECE Flag Count               225745 non-null  int64  \n",
      " 51   Down/Up Ratio                225745 non-null  int64  \n",
      " 52   Average Packet Size          225745 non-null  float64\n",
      " 53   Avg Fwd Segment Size         225745 non-null  float64\n",
      " 54   Avg Bwd Segment Size         225745 non-null  float64\n",
      " 55   Fwd Header Length.1          225745 non-null  int64  \n",
      " 56  Fwd Avg Bytes/Bulk            225745 non-null  int64  \n",
      " 57   Fwd Avg Packets/Bulk         225745 non-null  int64  \n",
      " 58   Fwd Avg Bulk Rate            225745 non-null  int64  \n",
      " 59   Bwd Avg Bytes/Bulk           225745 non-null  int64  \n",
      " 60   Bwd Avg Packets/Bulk         225745 non-null  int64  \n",
      " 61  Bwd Avg Bulk Rate             225745 non-null  int64  \n",
      " 62  Subflow Fwd Packets           225745 non-null  int64  \n",
      " 63   Subflow Fwd Bytes            225745 non-null  int64  \n",
      " 64   Subflow Bwd Packets          225745 non-null  int64  \n",
      " 65   Subflow Bwd Bytes            225745 non-null  int64  \n",
      " 66  Init_Win_bytes_forward        225745 non-null  int64  \n",
      " 67   Init_Win_bytes_backward      225745 non-null  int64  \n",
      " 68   act_data_pkt_fwd             225745 non-null  int64  \n",
      " 69   min_seg_size_forward         225745 non-null  int64  \n",
      " 70  Active Mean                   225745 non-null  float64\n",
      " 71   Active Std                   225745 non-null  float64\n",
      " 72   Active Max                   225745 non-null  int64  \n",
      " 73   Active Min                   225745 non-null  int64  \n",
      " 74  Idle Mean                     225745 non-null  float64\n",
      " 75   Idle Std                     225745 non-null  float64\n",
      " 76   Idle Max                     225745 non-null  int64  \n",
      " 77   Idle Min                     225745 non-null  int64  \n",
      " 78   Label                        225745 non-null  object \n",
      "dtypes: float64(24), int64(54), object(1)\n",
      "memory usage: 136.1+ MB\n"
     ]
    }
   ],
   "source": [
    "data.info()"
   ]
  },
  {
   "cell_type": "code",
   "execution_count": 4,
   "metadata": {},
   "outputs": [
    {
     "data": {
      "text/plain": [
       " Destination Port              0\n",
       " Flow Duration                 0\n",
       " Total Fwd Packets             0\n",
       " Total Backward Packets        0\n",
       "Total Length of Fwd Packets    0\n",
       "                              ..\n",
       "Idle Mean                      0\n",
       " Idle Std                      0\n",
       " Idle Max                      0\n",
       " Idle Min                      0\n",
       " Label                         0\n",
       "Length: 79, dtype: int64"
      ]
     },
     "execution_count": 4,
     "metadata": {},
     "output_type": "execute_result"
    }
   ],
   "source": [
    "data.isnull().sum()  # check for missing values"
   ]
  },
  {
   "cell_type": "code",
   "execution_count": 5,
   "metadata": {},
   "outputs": [
    {
     "data": {
      "text/plain": [
       " Destination Port              0\n",
       " Flow Duration                 0\n",
       " Total Fwd Packets             0\n",
       " Total Backward Packets        0\n",
       "Total Length of Fwd Packets    0\n",
       "                              ..\n",
       "Idle Mean                      0\n",
       " Idle Std                      0\n",
       " Idle Max                      0\n",
       " Idle Min                      0\n",
       " Label                         0\n",
       "Length: 79, dtype: int64"
      ]
     },
     "execution_count": 5,
     "metadata": {},
     "output_type": "execute_result"
    }
   ],
   "source": [
    "data.isna().sum()  # check for missing values"
   ]
  },
  {
   "cell_type": "code",
   "execution_count": 6,
   "metadata": {},
   "outputs": [
    {
     "name": "stdout",
     "output_type": "stream",
     "text": [
      "(225745, 78) (225745,)\n"
     ]
    }
   ],
   "source": [
    "# strip column names of any leading or trailing spaces\n",
    "data.columns = data.columns.str.strip()\n",
    "\n",
    "# separate features and labels\n",
    "X = data.drop(columns=['Label'])\n",
    "y = data['Label']\n",
    "\n",
    "# map BENIGN to 0 and DoS to 1\n",
    "y = y.map({'BENIGN': 0, 'DDoS': 1})\n",
    "\n",
    "print(X.shape, y.shape)"
   ]
  },
  {
   "cell_type": "code",
   "execution_count": 7,
   "metadata": {},
   "outputs": [],
   "source": [
    "# Replace infinite values with NaN and then fill them with the column mean\n",
    "X.replace([np.inf], np.nan, inplace=True)\n",
    "X.fillna(X.mean(), inplace=True)\n",
    "\n",
    "# Normalize data\n",
    "scaler = StandardScaler()\n",
    "X_scaled = scaler.fit_transform(X)"
   ]
  },
  {
   "cell_type": "code",
   "execution_count": 8,
   "metadata": {},
   "outputs": [
    {
     "name": "stdout",
     "output_type": "stream",
     "text": [
      "(225725, 20, 78) (225725,)\n"
     ]
    }
   ],
   "source": [
    "# Convert time series into sequences for LSTM\n",
    "def create_sequences(data, labels, timesteps=10):\n",
    "    X_seq, y_seq = [], []\n",
    "    for i in range(len(data) - timesteps):\n",
    "        X_seq.append(data[i: i + timesteps])\n",
    "        y_seq.append(labels[i + timesteps])  # Label for last timestep\n",
    "    return np.array(X_seq), np.array(y_seq)\n",
    "\n",
    "timesteps = 20\n",
    "X_seq, y_seq = create_sequences(X_scaled, y, timesteps)\n",
    "\n",
    "print(X_seq.shape, y_seq.shape)"
   ]
  },
  {
   "cell_type": "code",
   "execution_count": 9,
   "metadata": {},
   "outputs": [],
   "source": [
    "# Convert to PyTorch tensors\n",
    "X_tensor = torch.tensor(X_seq, dtype=torch.float32)\n",
    "y_tensor = torch.tensor(y_seq, dtype=torch.float32)\n",
    "\n",
    "# Train-test split\n",
    "train_size = int(0.7 * len(X_tensor))\n",
    "val_size = int(0.15 * len(X_tensor))\n",
    "test_size = len(X_tensor) - train_size - val_size\n",
    "X_train, X_val, X_test = torch.split(X_tensor, [train_size, val_size, test_size])\n",
    "y_train, y_val, y_test = torch.split(y_tensor, [train_size, val_size, test_size])\n",
    "\n",
    "# Create PyTorch Dataset & DataLoader\n",
    "class TimeSeriesDataset(Dataset):\n",
    "    def __init__(self, X, y):\n",
    "        self.X = X\n",
    "        self.y = y\n",
    "    \n",
    "    def __len__(self):\n",
    "        return len(self.X)\n",
    "    \n",
    "    def __getitem__(self, idx):\n",
    "        return self.X[idx], self.y[idx]\n",
    "\n",
    "batch_size = 32\n",
    "train_dataset = TimeSeriesDataset(X_train, y_train)\n",
    "val_dataset = TimeSeriesDataset(X_val, y_val)\n",
    "test_dataset = TimeSeriesDataset(X_test, y_test)\n",
    "\n",
    "train_loader = DataLoader(train_dataset, batch_size=batch_size, shuffle=True)\n",
    "val_loader = DataLoader(val_dataset, batch_size=batch_size, shuffle=False)\n",
    "test_loader = DataLoader(test_dataset, batch_size=batch_size, shuffle=False)"
   ]
  },
  {
   "cell_type": "markdown",
   "metadata": {},
   "source": [
    "Model"
   ]
  },
  {
   "cell_type": "code",
   "execution_count": 10,
   "metadata": {},
   "outputs": [
    {
     "name": "stdout",
     "output_type": "stream",
     "text": [
      "Model architecture: LSTMAnomalyDetector(\n",
      "  (lstm): LSTM(78, 128, batch_first=True)\n",
      "  (fc): Linear(in_features=128, out_features=1, bias=True)\n",
      "  (sigmoid): Sigmoid()\n",
      ")\n"
     ]
    }
   ],
   "source": [
    "import torch.nn as nn\n",
    "import torch.optim as optim\n",
    "\n",
    "# Define LSTM Model for Classification\n",
    "class LSTMAnomalyDetector(nn.Module):\n",
    "    def __init__(self, input_size, hidden_size=50, num_layers=1):\n",
    "        super(LSTMAnomalyDetector, self).__init__()\n",
    "        self.lstm = nn.LSTM(input_size, hidden_size, num_layers, batch_first=True)\n",
    "        self.fc = nn.Linear(hidden_size, 1)  # Binary classification (normal vs anomaly)\n",
    "        self.sigmoid = nn.Sigmoid()\n",
    "    \n",
    "    def forward(self, x):\n",
    "        lstm_out, _ = self.lstm(x)\n",
    "        out = self.fc(lstm_out[:, -1, :])  # Take last LSTM output\n",
    "        return self.sigmoid(out)\n",
    "\n",
    "# Move model to CUDA if available\n",
    "device = torch.device(\"cuda\" if torch.cuda.is_available() else \"cpu\")\n",
    "model = LSTMAnomalyDetector(input_size=78, hidden_size=128).to(device)\n",
    "print(\"Model architecture:\", model)\n",
    "\n",
    "# Define Loss Function and Optimizer\n",
    "criterion = nn.BCELoss()  # Binary cross-entropy loss\n",
    "optimizer = optim.Adam(model.parameters(), lr=0.001)"
   ]
  },
  {
   "cell_type": "code",
   "execution_count": 11,
   "metadata": {},
   "outputs": [
    {
     "name": "stdout",
     "output_type": "stream",
     "text": [
      "Epoch 1/20, Train Loss: 0.0057, Val Loss: 0.0022\n",
      "Epoch 2/20, Train Loss: 0.0016, Val Loss: 0.0012\n",
      "Epoch 3/20, Train Loss: 0.0014, Val Loss: 0.0012\n",
      "Epoch 4/20, Train Loss: 0.0013, Val Loss: 0.0013\n",
      "Epoch 5/20, Train Loss: 0.0013, Val Loss: 0.0012\n",
      "Epoch 6/20, Train Loss: 0.0012, Val Loss: 0.0011\n",
      "Epoch 7/20, Train Loss: 0.0011, Val Loss: 0.0013\n",
      "Epoch 8/20, Train Loss: 0.0011, Val Loss: 0.0013\n",
      "Epoch 9/20, Train Loss: 0.0011, Val Loss: 0.0012\n",
      "Epoch 10/20, Train Loss: 0.0010, Val Loss: 0.0020\n",
      "Epoch 11/20, Train Loss: 0.0010, Val Loss: 0.0018\n",
      "Epoch 12/20, Train Loss: 0.0009, Val Loss: 0.0020\n",
      "Epoch 13/20, Train Loss: 0.0009, Val Loss: 0.0016\n",
      "Epoch 14/20, Train Loss: 0.0009, Val Loss: 0.0021\n",
      "Epoch 15/20, Train Loss: 0.0009, Val Loss: 0.0017\n",
      "Epoch 16/20, Train Loss: 0.0008, Val Loss: 0.0020\n",
      "Epoch 17/20, Train Loss: 0.0007, Val Loss: 0.0021\n",
      "Epoch 18/20, Train Loss: 0.0007, Val Loss: 0.0020\n",
      "Epoch 19/20, Train Loss: 0.0006, Val Loss: 0.0037\n",
      "Epoch 20/20, Train Loss: 0.0007, Val Loss: 0.0040\n"
     ]
    }
   ],
   "source": [
    "# Training loop\n",
    "epochs = 20\n",
    "\n",
    "for epoch in range(epochs):\n",
    "    # Training step\n",
    "    model.train()\n",
    "    total_loss = 0\n",
    "    for X_batch, y_batch in train_loader:\n",
    "        X_batch, y_batch = X_batch.to(device), y_batch.to(device)\n",
    "\n",
    "        optimizer.zero_grad()\n",
    "        outputs = model(X_batch).squeeze()\n",
    "        loss = criterion(outputs, y_batch)\n",
    "        loss.backward()\n",
    "        optimizer.step()\n",
    "        \n",
    "        total_loss += loss.item()\n",
    "    \n",
    "    # Validateion step\n",
    "    model.eval()\n",
    "    val_loss = 0\n",
    "    with torch.no_grad():\n",
    "        for X_batch, y_batch in val_loader:\n",
    "            X_batch, y_batch = X_batch.to(device), y_batch.to(device)\n",
    "            outputs = model(X_batch).squeeze()\n",
    "            loss = criterion(outputs, y_batch)\n",
    "            val_loss += loss.item()\n",
    "    \n",
    "    # Print epoch results\n",
    "    print(f\"Epoch {epoch+1}/{epochs}, Train Loss: {total_loss/len(train_loader):.4f}, Val Loss: {val_loss/len(val_loader):.4f}\")"
   ]
  },
  {
   "cell_type": "code",
   "execution_count": 12,
   "metadata": {},
   "outputs": [
    {
     "name": "stdout",
     "output_type": "stream",
     "text": [
      "Test Accuracy: 0.9984\n"
     ]
    }
   ],
   "source": [
    "# Testing the model\n",
    "model.eval()\n",
    "y_preds = []\n",
    "y_true = []\n",
    "\n",
    "with torch.no_grad():\n",
    "    for X_batch, y_batch in test_loader:\n",
    "        X_batch = X_batch.to(device)\n",
    "        outputs = model(X_batch).squeeze().cpu().numpy()\n",
    "        y_preds.extend(outputs)\n",
    "        y_true.extend(y_batch.numpy())\n",
    "\n",
    "# Convert predictions to binary (0 or 1)\n",
    "y_preds = np.array(y_preds)\n",
    "y_preds = (y_preds > 0.5).astype(int)\n",
    "\n",
    "# Compute Accuracy\n",
    "accuracy = np.mean(y_preds == y_true)\n",
    "print(f\"Test Accuracy: {accuracy:.4f}\")\n"
   ]
  },
  {
   "cell_type": "code",
   "execution_count": 13,
   "metadata": {},
   "outputs": [
    {
     "name": "stdout",
     "output_type": "stream",
     "text": [
      "              precision    recall  f1-score   support\n",
      "\n",
      "      BENGIN       1.00      1.00      1.00     30951\n",
      "        DDos       0.99      0.99      0.99      2909\n",
      "\n",
      "    accuracy                           1.00     33860\n",
      "   macro avg       0.99      1.00      0.99     33860\n",
      "weighted avg       1.00      1.00      1.00     33860\n",
      "\n"
     ]
    }
   ],
   "source": [
    "# Compute precision, recall, and F1-score\n",
    "from sklearn.metrics import classification_report\n",
    "print(classification_report(y_true, y_preds, target_names=['BENGIN', 'DDos']))"
   ]
  },
  {
   "cell_type": "code",
   "execution_count": 14,
   "metadata": {},
   "outputs": [
    {
     "data": {
      "image/png": "[encoded data removed]",
      "text/plain": [
       "<Figure size 640x480 with 2 Axes>"
      ]
     },
     "metadata": {},
     "output_type": "display_data"
    }
   ],
   "source": [
    "# draw confusion matrix\n",
    "from sklearn.metrics import confusion_matrix, ConfusionMatrixDisplay\n",
    "confusion_matrix = confusion_matrix(y_true, y_preds)\n",
    "disp = ConfusionMatrixDisplay(confusion_matrix=confusion_matrix, display_labels=['BENIGN', 'DDos'])\n",
    "disp.plot(cmap=plt.cm.Blues)\n",
    "plt.title(\"Confusion Matrix\")\n",
    "plt.show()"
   ]
  },
  {
   "cell_type": "code",
   "execution_count": 15,
   "metadata": {},
   "outputs": [
    {
     "name": "stdout",
     "output_type": "stream",
     "text": [
      "ROC AUC: 0.9951\n"
     ]
    },
    {
     "data": {
      "image/png": "[encoded data removed]",
      "text/plain": [
       "<Figure size 800x600 with 1 Axes>"
      ]
     },
     "metadata": {},
     "output_type": "display_data"
    }
   ],
   "source": [
    "# draw ROC curve\n",
    "from sklearn.metrics import roc_curve, auc\n",
    "fpr, tpr, thresholds = roc_curve(y_true, y_preds)\n",
    "roc_auc = auc(fpr, tpr)\n",
    "print(f\"ROC AUC: {roc_auc:.4f}\")\n",
    "import matplotlib.pyplot as plt\n",
    "plt.figure(figsize=(8, 6))\n",
    "plt.plot(fpr, tpr, color='blue', label=f'ROC curve (area = {roc_auc:.2f})')\n",
    "plt.plot([0, 1], [0, 1], color='red', linestyle='--')\n",
    "plt.xlim([0.0, 1.0])\n",
    "plt.ylim([0.0, 1.05])\n",
    "plt.xlabel('False Positive Rate')\n",
    "plt.ylabel('True Positive Rate')\n",
    "plt.title('Receiver Operating Characteristic')\n",
    "plt.legend(loc='lower right') \n",
    "plt.show()"
   ]
  }
 ],
 "metadata": {
  "kernelspec": {
   "display_name": "ML",
   "language": "python",
   "name": "python3"
  },
  "language_info": {
   "codemirror_mode": {
    "name": "ipython",
    "version": 3
   },
   "file_extension": ".py",
   "mimetype": "text/x-python",
   "name": "python",
   "nbconvert_exporter": "python",
   "pygments_lexer": "ipython3",
   "version": "3.12.9"
  }
 },
 "nbformat": 4,
 "nbformat_minor": 2
}
